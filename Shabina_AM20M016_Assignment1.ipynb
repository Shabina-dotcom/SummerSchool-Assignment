{
 "cells": [
  {
   "cell_type": "markdown",
   "id": "bfcd4f24",
   "metadata": {},
   "source": [
    "# Task 1"
   ]
  },
  {
   "cell_type": "code",
   "execution_count": null,
   "id": "9a94b406",
   "metadata": {},
   "outputs": [],
   "source": [
    "import numpy as np\n",
    "import random\n",
    "\n",
    "n = 100\n",
    "y_=np.random.rand(n)\n",
    "y=np.random.randint(0,2,(n))\n",
    "print(y)\n",
    "print(y_)\n",
    "O=0.0\n",
    "O=y*np.log2(y_)+ (1-y)*np.log2(1-y_)\n",
    "print(-O.mean())\n"
   ]
  },
  {
   "cell_type": "markdown",
   "id": "c0338fa5",
   "metadata": {},
   "source": [
    "# Task 2 \n"
   ]
  },
  {
   "cell_type": "code",
   "execution_count": null,
   "id": "75748657",
   "metadata": {},
   "outputs": [],
   "source": [
    "\n",
    "\n",
    "class Target:\n",
    "    def __init__(self,Input,target):\n",
    "        self.Output={}\n",
    "        self.Input=Input\n",
    "        self.target=target\n",
    "        \n",
    "    def findSum(self):\n",
    "        SrNo=1\n",
    "        \n",
    "        for i in range(len(self.Input)):\n",
    "            for j in range(len(self.Input)):\n",
    "                if(self.Input[i]+self.Input[j]==self.target):\n",
    "                    self.Output[SrNo]=[i,j]\n",
    "                    SrNo=SrNo+1\n",
    "        print(self.Output)\n",
    "Input = [int(x) for x in input().split(',')]\n",
    "print(Input)\n",
    "target=int(input())\n",
    "print('target=',target)\n",
    "i=0\n",
    "j=0         \n",
    "a= Target(Input,target)\n",
    "a.findSum()\n"
   ]
  }
 ],
 "metadata": {
  "kernelspec": {
   "display_name": "Python 3",
   "language": "python",
   "name": "python3"
  },
  "language_info": {
   "codemirror_mode": {
    "name": "ipython",
    "version": 3
   },
   "file_extension": ".py",
   "mimetype": "text/x-python",
   "name": "python",
   "nbconvert_exporter": "python",
   "pygments_lexer": "ipython3",
   "version": "3.9.5"
  }
 },
 "nbformat": 4,
 "nbformat_minor": 5
}
